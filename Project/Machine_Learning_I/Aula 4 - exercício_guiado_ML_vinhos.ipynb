{
 "cells": [
  {
   "cell_type": "markdown",
   "id": "7cd02e53",
   "metadata": {},
   "source": [
    "# Exercício guiado de Machine Learning\n",
    "\n",
    "## Case: advanced analytics no mercado de vinho\n",
    "_________"
   ]
  },
  {
   "cell_type": "markdown",
   "id": "c5c28bb1",
   "metadata": {},
   "source": [
    "Suponha que você é um cientista de dados que trabalha na área de *advanced analytics* de uma empresa especializada na distribuição e vendas de vinhos tintos. Naturalmente, a empresa está interessada em vender vinhos que sejam percebidos como bons por grande parte do público. Pensando nisso, foi feita uma pesquisa, na qual vinhos tintos com diferentes características físico-químicas foram oferecidos a alguns voluntários, que, após experimentá-los, deram notas de 0 a 10. A base coletada contém as seguintes informações:\n",
    "\n",
    "- Medidas de 11 variáveis físico-químicas que caracterizam cada amostra (as features do problema):\n",
    "<br><br>\n",
    "    - 1 - fixed acidity - medida da acidez devido à presença de ácidos orgânicos de baixa volatilidade (ácido málico, lático, tartárico ou cítrico) no vinho;\n",
    "    - 2 - volatile acidity - medida da acidez devido a ácidos de baixo peso molecular (sobretudo ácido acético) presentes no vinho, que são responsáveis pelo aroma e gosto de vinagre;\n",
    "    - 3 - citric acid - medida de ácido cítrico no vinho;\n",
    "    - 4 - residual sugar - medida de açúcar residual presente no vinho, com origem nos resíduos de açúcar da uva que permanecem no vinho após o fim da fermentação;\n",
    "    - 5 - chlorides - medida de cloretos (íons de cloro) no vinho;\n",
    "    - 6 - free sulfur dioxide - medida de dióxido de enxofre livre (isto é, que não está ligado a outras moléculas) no vinho;\n",
    "    - 7 - total sulfur dioxide - medida de dióxido de enxofre total (livre + porção ligada a outras moléculas) no vinho;\n",
    "    - 8 - density - medida da densidade do vinho;\n",
    "    - 9 - pH - medida do pH do vinho;\n",
    "    - 10 - sulphates - medida de sulfatos (íons SO₄²⁻) no vinho;\n",
    "    - 11 - alcohol - medida da graduação alcoólica do vinho.\n",
    "<br><br>\n",
    "- Além disso, há a variável resposta que no caso é um score numérico:\n",
    "<br><br>\n",
    "    - 12 - quality - score numérico de qualidade (de 0 a 10), produzido com base em dados sensoriais.\n",
    "\n",
    "Com base nestes dados coletados, seu objetivo é produzir um modelo capaz de distinguir vinhos bons de ruins, com base nas medidas de suas características físico-químicas. \n",
    "\n",
    "Uma vez que tenhamos este modelo, caso produtoras de vinho ofereçam um novo vinho para ser vendido por sua empresa, será possível decidir de maneira mais direcionada se vale a pena passar a vender este produto ou não, de acordo com a predição de sua qualidade dada pelo modelo.\n",
    "\n",
    "Dentro deste contexto, seu objetivo como cientista de dados é claro:\n",
    "\n",
    "> Agregar valor ao negócio, explorando os dados que você tem à disposição.\n",
    "\n",
    "Na primeira sprint do projeto, você e outros colegas do time de ciência de dados chegaram na seguinte _TO-DO list_ para o desenvolvimento do projeto:\n",
    "\n",
    "- [ ] Ingestão dos dados e detalhada análise exploratória\n",
    "- [ ] Formulação do problema\n",
    "- [ ] Primeiro modelo baseline\n",
    "- [ ] Iterações pelo ciclo de modelagem\n",
    "- [ ] Compilação dos resultados para o negócio\n",
    "- [ ] Comunicação dos resultados\n",
    "\n",
    "Com base na TO-DO list acima, o time de data science quebrou a análise exploratória em algumas perguntas importantes a serem respondidas, antes da etapa de modelagem.\n",
    "\n",
    "Agora é com você! Bom trabalho, e divirta-se! :D"
   ]
  },
  {
   "cell_type": "markdown",
   "id": "3f4cb2bc",
   "metadata": {},
   "source": [
    "\n",
    "_________\n",
    "\n",
    "*Obs.: Naturalmente, o enunciado acima foi apenas uma historinha que criei pra motivar o problema em um contexto de negócio. Para maiores informações sobre a coleta e origem real dos dados, veja a página do dataset no repositório UCI machine learning repository, [disponível aqui!](https://archive.ics.uci.edu/ml/datasets/wine+quality)* \n",
    "\n",
    "_________"
   ]
  },
  {
   "cell_type": "markdown",
   "id": "957b772e",
   "metadata": {},
   "source": [
    "Vamos começar pelos primeiros pontos da TO-DO list:\n",
    "\n",
    "- [ ] Ingestão dos dados e detalhada análise exploratória\n",
    "- [ ] Formulação do problema"
   ]
  },
  {
   "cell_type": "markdown",
   "id": "5f1bc556",
   "metadata": {},
   "source": [
    "_______"
   ]
  },
  {
   "cell_type": "code",
   "execution_count": 1,
   "id": "93d6d58f",
   "metadata": {
    "ExecuteTime": {
     "end_time": "2022-12-17T16:14:15.062480Z",
     "start_time": "2022-12-17T16:14:03.404985Z"
    }
   },
   "outputs": [],
   "source": [
    "import numpy as np\n",
    "import pandas as pd\n",
    "import matplotlib.pyplot as plt\n",
    "import seaborn as sns"
   ]
  },
  {
   "cell_type": "markdown",
   "id": "cdc471d9",
   "metadata": {},
   "source": [
    "1) Leia o arquivo csv `winequality-red.csv`, construindo um Data Frame do pandas. Responda:\n",
    "\n",
    "- Quantas linhas há no dataset?\n",
    "- Quantas colunas há no dataset?\n",
    "- Quais os tipos de dados em cada coluna?\n",
    "- Há dados nulos (null, missing) na base?"
   ]
  },
  {
   "cell_type": "code",
   "execution_count": null,
   "id": "7c8a931b",
   "metadata": {},
   "outputs": [],
   "source": []
  },
  {
   "cell_type": "markdown",
   "id": "6bf31bdb",
   "metadata": {},
   "source": [
    "_______"
   ]
  },
  {
   "cell_type": "markdown",
   "id": "e1ac4492",
   "metadata": {},
   "source": [
    "### Observação importante!\n",
    "\n",
    "A primeira EDA pode ser feita com toda a amostra de dados que temos disponível, sem problemas.\n",
    "\n",
    "No entanto, a partir do momento em que chegamos à conclusão de que de fato é necessário construir um modelo, é importante que façamos o **train-test split**, e:\n",
    "\n",
    ">**Qualquer análise exploratória que, de qualquer maneira, guie o processo de construção do modelo, deve ser feita unicamente com os dados de treino!**\n",
    "\n",
    "Isso é importante porque, lembre-se, a base de teste tem o único propósito de nos auxiliar a estimar a performance de generalização de nosso modelo, e não deve ser usada em hipótese alguma no passo 1 do ciclo de modelagem (construção do modelo), pois se isso acontecer, estaremos cometendo data leakage, e a estimativa de generalização pode se invalidar!"
   ]
  },
  {
   "cell_type": "markdown",
   "id": "baa233df",
   "metadata": {},
   "source": [
    "_______"
   ]
  },
  {
   "cell_type": "markdown",
   "id": "54b93629",
   "metadata": {},
   "source": [
    "2) Utilizando a base de vinhos tintos, estude a distribuição das variáveis numéricas, calculando, para cada coluna, as principais estatísticas descritivas de posição (média, mediana, quartis, etc.) e de dispersão (std, IQR, etc.). Se desejar, visualize as distribuições de cada variável na amostra."
   ]
  },
  {
   "cell_type": "markdown",
   "id": "6e75de5c",
   "metadata": {},
   "source": [
    "Se houver interesse e importância em identificar/remover outliers, podemos usar métodos mais robustos, como os discutidos [neste post](https://machinelearningmastery.com/model-based-outlier-detection-and-removal-in-python/), ou segundo a própria [documentação do sklearn](https://scikit-learn.org/stable/modules/outlier_detection.html)."
   ]
  },
  {
   "cell_type": "code",
   "execution_count": null,
   "id": "dd5f460d",
   "metadata": {},
   "outputs": [],
   "source": []
  },
  {
   "cell_type": "markdown",
   "id": "dc7645b8",
   "metadata": {},
   "source": [
    "_______"
   ]
  },
  {
   "cell_type": "markdown",
   "id": "3760ab93",
   "metadata": {},
   "source": [
    "3) Utilizando a base de vinhos tintos, responda: existe alguma coluna com outliers? Indique qual método de detecção de outliers você utilizou, justificando seu uso."
   ]
  },
  {
   "cell_type": "code",
   "execution_count": null,
   "id": "1c55f4ec",
   "metadata": {},
   "outputs": [],
   "source": []
  },
  {
   "cell_type": "markdown",
   "id": "89b5f35e",
   "metadata": {},
   "source": [
    "Se houver interesse e importância em identificar/remover outliers, podemos usar métodos mais robustos, como os discutidos [neste post](https://machinelearningmastery.com/model-based-outlier-detection-and-removal-in-python/), ou segundo a própria [documentação do sklearn](https://scikit-learn.org/stable/modules/outlier_detection.html)."
   ]
  },
  {
   "cell_type": "markdown",
   "id": "4a8bc074",
   "metadata": {},
   "source": [
    "_______"
   ]
  },
  {
   "cell_type": "markdown",
   "id": "8706619b",
   "metadata": {},
   "source": [
    "3) Utilizando a base de vinhos tintos, estude os dados na coluna `quality`, que é a variável resposta do problema. Em particular, responda:\n",
    "\n",
    "- Essa é uma variável contínua ou discreta?\n",
    "- Como as notas estão distribuídas? Quais as notas mais/menos comuns?\n",
    "- Faz sentido discretizar esta variável em dois níveis categóricos? \n",
    "    - Se sim, qual seria o valor de corte, e, com este corte, qual é o significado de cada nível categórico?\n",
    "    - Como estes dois níveis categóricos estão distribuídos?"
   ]
  },
  {
   "cell_type": "code",
   "execution_count": null,
   "id": "c1b8b4dd",
   "metadata": {},
   "outputs": [],
   "source": []
  },
  {
   "cell_type": "markdown",
   "id": "6bb0e4a7",
   "metadata": {},
   "source": [
    "_______"
   ]
  },
  {
   "cell_type": "markdown",
   "id": "677ee715",
   "metadata": {},
   "source": [
    "4) Utilizando a base de vinhos tintos, calcule e/ou visualize a correlação (utilizando a relação que achar mais adequada) entre as variáveis na base. \n",
    "\n",
    "Em particular, estude a correlação entre as features e o target `quality`, e responda se há correlações fortes.\n",
    "\n",
    "Plote também a relação entre cada uma das features e o target (na forma de um scatterplot, por exemplo).\n",
    "\n",
    "Com base nas análises acima, responda: é uma boa ideia modelar o problema como um problema de regressão? Se sim, que métodos de aprendizagem você utilizaria?"
   ]
  },
  {
   "cell_type": "code",
   "execution_count": null,
   "id": "09a0af4c",
   "metadata": {},
   "outputs": [],
   "source": []
  },
  {
   "cell_type": "markdown",
   "id": "f579208a",
   "metadata": {},
   "source": [
    "_______"
   ]
  },
  {
   "cell_type": "markdown",
   "id": "cafe234e",
   "metadata": {},
   "source": [
    "5) Utilizando a base de vinhos tintos, calcule e/ou visualize (em um gráfico de barras, ou como preferir) o intervalo de confiança de 90% para a média de cada uma das variáveis físico-químicas, agrupadas pelos níveis categóricos da variável resposta `quality`. Que conclusões são possíveis tirar destes gráficos?\n",
    "\n",
    "Sugestão: utilizar o seaborn para a visualização."
   ]
  },
  {
   "cell_type": "code",
   "execution_count": null,
   "id": "9be9f279",
   "metadata": {},
   "outputs": [],
   "source": []
  },
  {
   "cell_type": "markdown",
   "id": "880776bf",
   "metadata": {},
   "source": [
    "_______"
   ]
  },
  {
   "cell_type": "markdown",
   "id": "de7609d2",
   "metadata": {},
   "source": [
    "6) Utilizando a base de vinhos tintos, discretize a variável resposta `quality` em dois níveis categóricos para transformar o problema em um problema de classificação binária. Como valor de corte, utilize aquele que seja tal que os dois níveis categóricos estejam o mais igualmente distribuídos possível (isto é, um corte que minimize o desbalanceamento das classes). Sugestão: teste todos os valores de corte possíveis (não são muitos!)\n",
    "\n",
    "Após a determinação do valor de corte que satisfaça às condições acima, responda: o que, qualitativamente, cada uma das duas classes representa? Esta discretização faz sentido? Se sim, para facilitar análises posteriores, nomeie as classes de acordo.\n",
    "\n",
    "Dica: vamos usar esta nova variável resposta binária nas análises dos próximos exercícios, então sugiro que o dataframe com esta variável seja salvo num arquivo, para que ele possa ser simplesmente lido posteriormente."
   ]
  },
  {
   "cell_type": "code",
   "execution_count": null,
   "id": "0ab189e8",
   "metadata": {
    "ExecuteTime": {
     "end_time": "2022-12-17T16:14:34.596572Z",
     "start_time": "2022-12-17T16:14:34.429158Z"
    }
   },
   "outputs": [],
   "source": []
  },
  {
   "cell_type": "markdown",
   "id": "c7077f42",
   "metadata": {},
   "source": [
    "_______"
   ]
  },
  {
   "cell_type": "markdown",
   "id": "aabc83e4",
   "metadata": {},
   "source": [
    "7) Considere a base de vinhos tintos com a variável `quality` discretizada em duas classes (\"bom\" para nota maior que 5; \"ruim\" caso contrário). Vamos agora analisar a separabilidade das duas classes do problema. Para isso, faça:\n",
    "\n",
    "- Visualize as distribuições das features, com indicação dos diferentes níveis categóricos do target;\n",
    "- Visualize as projeções dos dados em cada um dos subespaços de pares de features, com indicação dos níveis categóricos do target;\n",
    "\n",
    "Responda: com base nesta análise, o problema é linearmente separável?"
   ]
  },
  {
   "cell_type": "markdown",
   "id": "7fd85012",
   "metadata": {},
   "source": [
    "O problema tem separabilidade não trivial. Com base nisso, é de se esperar que métodos lineares não tenham uma performance muito boa. Esta observação indica que, provavelmente, precisaremos de estimadores mais complexos para caputrar o padrão refletido na amostra de treino. Claro, testaremos isso tudo no ciclo de modelagem a seguir, mas é bom já termos alguma expectativa para os resultados que iremos obter."
   ]
  },
  {
   "cell_type": "code",
   "execution_count": null,
   "id": "355480fe",
   "metadata": {},
   "outputs": [],
   "source": []
  },
  {
   "cell_type": "markdown",
   "id": "d78b3755",
   "metadata": {},
   "source": [
    "_______"
   ]
  },
  {
   "cell_type": "markdown",
   "id": "b4abd3ff",
   "metadata": {},
   "source": [
    "8) Considere a base de vinhos tintos com a variável `quality` discretizada em duas classes. Separe o dataset em dados de treino (70%) e de teste (30%), estratifidando pelo target. Utilize `random_state=42` como seed, para fins de reprodutibilidade.\n",
    "\n",
    "Apenas com os dados de treino, calcule as componentes principais do espaço de features, e responda:\n",
    "\n",
    "- Quantas componentes principais são necessárias para que pelo menos 90% da variância do dataset seja explicada?\n",
    "- Faça um scatterplot das duas primeiras componentes principais, com indicação dos níveis categóricos do target;\n",
    "    - No sub-espaço das duas primeiras componentes principais, há separabilidade linear dos dados?\n",
    "\n",
    "Dica: utilize as ferramentas do scikit-learn."
   ]
  },
  {
   "cell_type": "markdown",
   "id": "c29e2094",
   "metadata": {},
   "source": [
    "Essa projeção também é um indicativo de que nosso problema não tem uma separabilidade linear trivial. Provavelmente, precisaremos criar modelos mais complexos!"
   ]
  },
  {
   "cell_type": "code",
   "execution_count": null,
   "id": "8288eac4",
   "metadata": {},
   "outputs": [],
   "source": []
  },
  {
   "cell_type": "markdown",
   "id": "d64178b4",
   "metadata": {},
   "source": [
    "_______"
   ]
  },
  {
   "cell_type": "markdown",
   "id": "dc9da6a9",
   "metadata": {},
   "source": [
    "9) Considere a base de vinhos tintos com a variável `quality` discretizada em duas classes. Separe o dataset em dados de treino (70%) e de teste (30%), estratifidando pelo target. Utilize `random_state=42` como seed, para fins de reprodutibilidade. Usando os dados de treino, faça:\n",
    "\n",
    "- Agrupe os dados pelos níveis categóricos do target, e calcule a média de cada uma das features;\n",
    "\n",
    "- Faça um teste de hipótese para determinar se, a um nível de significância de 5%, há diferença na média de cada uma das sub-amostras de cada classe, para todas as variáveis;\n",
    "\n",
    "- Compare a distribuição das features analisando o boxplot de cada uma, separados pelas duas classes do target.\n",
    "\n",
    "Dica: utilize as ferramentas do scipy e do scikit-learn."
   ]
  },
  {
   "cell_type": "code",
   "execution_count": null,
   "id": "10406d74",
   "metadata": {},
   "outputs": [],
   "source": []
  },
  {
   "cell_type": "markdown",
   "id": "e961cccf",
   "metadata": {},
   "source": [
    "__________\n",
    "__________\n",
    "__________\n"
   ]
  },
  {
   "cell_type": "markdown",
   "id": "85602aa1",
   "metadata": {},
   "source": [
    "Uma vez que você tenha respondido às questões anteriores, você completou, talvez sem perceber, o importantíssimo (e longo!) processo de análise exploratória dos dados (EDA, do termo inglês, *exploratory data analysis*)!\n",
    "\n",
    "De fato, a etapa de EDA é importantíssima em todo projeto de ciência de dados, pois é apenas explorando os dados que de fato nos familiarizamos com o contexto do problema com o qual estamos trabalhando, o que é fundamental para o sucesso das próximas etapas, que pode envolver a criação e avaliação de modelos de machine learning, que é exatamente o que faremos agora, endereçando os próximos pontos da TO-DO list:\n",
    "\n",
    "- [ ] Primeiro modelo baseline\n",
    "- [ ] Iterações pelo ciclo de modelagem\n",
    "\n",
    "Vamos lá!"
   ]
  },
  {
   "cell_type": "markdown",
   "id": "63265674",
   "metadata": {},
   "source": [
    "___________"
   ]
  },
  {
   "cell_type": "markdown",
   "id": "f0dca8a4",
   "metadata": {},
   "source": [
    "Vamos começar com o baseline - uma regressão logística, modelo linear simples."
   ]
  },
  {
   "cell_type": "markdown",
   "id": "a296b211",
   "metadata": {},
   "source": [
    "### Passo 1 - Construção do modelo"
   ]
  },
  {
   "cell_type": "code",
   "execution_count": 50,
   "id": "a99eca87",
   "metadata": {
    "ExecuteTime": {
     "end_time": "2022-12-17T16:15:22.690597Z",
     "start_time": "2022-12-17T16:15:22.677900Z"
    }
   },
   "outputs": [],
   "source": [
    "from sklearn.pipeline import Pipeline\n",
    "from sklearn.preprocessing import StandardScaler, MinMaxScaler\n",
    "from sklearn.linear_model import LogisticRegression"
   ]
  },
  {
   "cell_type": "markdown",
   "id": "41f735eb",
   "metadata": {},
   "source": [
    "### Passo 2 - Avaliação do modelo\n",
    "\n",
    "Agora vamos estimar a generalização do modelo com os dados de teste!\n",
    "\n",
    "Lembre-se: o objetivo é avaliar onde estamos no tradeoff viés-variância (sobretudo no caso de alta variância (overfit))."
   ]
  },
  {
   "cell_type": "code",
   "execution_count": 52,
   "id": "739251b7",
   "metadata": {
    "ExecuteTime": {
     "end_time": "2022-12-17T16:15:22.878151Z",
     "start_time": "2022-12-17T16:15:22.786998Z"
    }
   },
   "outputs": [],
   "source": [
    "from sklearn.metrics import ConfusionMatrixDisplay, classification_report"
   ]
  },
  {
   "cell_type": "markdown",
   "id": "cdb9f388",
   "metadata": {},
   "source": [
    "Claro, é importante que calculemos as métricas de avaliação tanto na base de treino quanto na base de teste, pra aferir se o modelo está overfitado (isto é, aferir a variância):"
   ]
  },
  {
   "cell_type": "code",
   "execution_count": null,
   "id": "979b8844",
   "metadata": {},
   "outputs": [],
   "source": []
  },
  {
   "cell_type": "markdown",
   "id": "92f07e71",
   "metadata": {},
   "source": [
    "Podemos dizer claramente que o modelo não está overfitado.\n",
    "\n",
    "Inclusive, há até um fenômeno interessante: o modelo tem métricas melhores no teste do que no treino!\n",
    "\n",
    "Esse é um sinal claro de que o modelo sofre de underfitting -- o que faz sentido, dado que a regressão logística (um modelo linear) é demasiadamente simples para os nossos dados!\n",
    "\n",
    "Como baseline, funciona muito bem. \n",
    "\n",
    "Nosso objetivo agora vai ser melhorar esta performance, aumentando um pouco a complexidadce da hipótese!"
   ]
  },
  {
   "cell_type": "markdown",
   "id": "cd2a23f0",
   "metadata": {},
   "source": [
    "### Agora, vamos entrar no ciclo, testando alguns estimadores mais complexos:"
   ]
  },
  {
   "cell_type": "code",
   "execution_count": null,
   "id": "4f88c645",
   "metadata": {},
   "outputs": [],
   "source": []
  },
  {
   "cell_type": "markdown",
   "id": "bd820905",
   "metadata": {},
   "source": [
    "## Entrando no ciclo de modelagem!\n",
    "\n",
    "Vamos agora treinar e avaliar sistematicamente diversos modelos."
   ]
  },
  {
   "cell_type": "markdown",
   "id": "ea18ca97",
   "metadata": {},
   "source": [
    "Vamos criar uma função para o experimento:"
   ]
  },
  {
   "cell_type": "code",
   "execution_count": null,
   "id": "ab72d201",
   "metadata": {},
   "outputs": [],
   "source": []
  },
  {
   "cell_type": "markdown",
   "id": "8a75e13c",
   "metadata": {},
   "source": [
    "Legal, já temos alguns resultados interessantes, muito melhores que os que tínhamos inicialmente!\n",
    "\n",
    "Mas ainda estamos com os hiperparâmetros default dos estimadores. É possível melhorarmos os resultados, se otimizarmos os hiperparâmetros dos estimadores!"
   ]
  },
  {
   "cell_type": "markdown",
   "id": "78cf6e69",
   "metadata": {},
   "source": [
    "____________\n",
    "\n",
    "### Otimização de hiperparâmetros\n",
    "\n",
    "- Começo com um random search, pra identificar **regiões promissoras no espçao de hiperparâmetros**;\n",
    "\n",
    "- Depois de encontrar estas regiões promissoros, uso o grid search pra fazer um **ajuste fino** nas redondezas da região promissora.\n",
    "\n",
    "Tudo isso, se for relativamente rápido de passar pelos processos acima. \n",
    "\n",
    "Se demorar muito (é o caso, por exemplo, de bases muito grandes), podemos partir direto pra otimização baeysiana."
   ]
  },
  {
   "cell_type": "markdown",
   "id": "22f18983",
   "metadata": {},
   "source": [
    "Vamos ilustrar este procedimento apenas com o Random Forest, para definirmos as ferramentas que podem ser utilizadas para os demais estimadores também."
   ]
  },
  {
   "cell_type": "markdown",
   "id": "3b37b5a2",
   "metadata": {},
   "source": [
    "Vamos alterar este comportamento, a partir da função a seguir, que considera também o gap (delta) para decidir a melhor combinação de hiperparâmetros:"
   ]
  }
 ],
 "metadata": {
  "kernelspec": {
   "display_name": "Python 3 (ipykernel)",
   "language": "python",
   "name": "python3"
  },
  "language_info": {
   "codemirror_mode": {
    "name": "ipython",
    "version": 3
   },
   "file_extension": ".py",
   "mimetype": "text/x-python",
   "name": "python",
   "nbconvert_exporter": "python",
   "pygments_lexer": "ipython3",
   "version": "3.9.6"
  }
 },
 "nbformat": 4,
 "nbformat_minor": 5
}
