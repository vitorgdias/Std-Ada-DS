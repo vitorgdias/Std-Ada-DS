{
 "cells": [
  {
   "cell_type": "markdown",
   "id": "45fcb82c",
   "metadata": {},
   "source": [
    "## Exercicios"
   ]
  },
  {
   "cell_type": "code",
   "execution_count": null,
   "id": "7e7b8190",
   "metadata": {},
   "outputs": [],
   "source": []
  },
  {
   "cell_type": "code",
   "execution_count": null,
   "metadata": {},
   "outputs": [],
   "source": []
  },
  {
   "cell_type": "code",
   "execution_count": null,
   "metadata": {},
   "outputs": [],
   "source": []
  },
  {
   "cell_type": "markdown",
   "id": "bb48c4c0",
   "metadata": {},
   "source": [
    "## Validação Cruzada"
   ]
  },
  {
   "cell_type": "markdown",
   "id": "6b55aa55",
   "metadata": {},
   "source": [
    "## 1) Validação cruzada (cross validation)\n",
    "\n",
    "**O cross validation (CV) é uma das técnicas mais importantes no ferramental de um cientista de dados.**\n",
    "\n",
    "Operacionalmente, o CV implementa diferentes conjuntos de treino e teste (aqui chamados de **validação**), criando efetivamente diferentes modelos treinados e avaliados em diferentes suconjuntos aleatórios (os chamados **folds**) da base de dados original. \n",
    "\n",
    "No fim, é possível inspecionar as métricas de interesse em cada fold, bem como ter uma ideia da performance média do modelo, olhando para **a distribuição das métricas de avaliação**.\n",
    "\n",
    "Note que este procedimento está intimamente relacionado com a avaliação da desejável habilidade de **generalização do modelo**!"
   ]
  },
  {
   "cell_type": "markdown",
   "id": "b350dbad",
   "metadata": {},
   "source": [
    "A forma mais comum de fazermos CV é através da técnica **k-fold**:\n",
    "\n",
    "<img src=https://scikit-learn.org/stable/_images/grid_search_cross_validation.png width=700>"
   ]
  },
  {
   "cell_type": "markdown",
   "id": "440304f3",
   "metadata": {},
   "source": [
    "No extremo desta abordagem, podemos tomar o número $k$ de folds igual ao número de observações na base ($n$). Neste caso, utiliza-se **uma única** observação para teste, enquanto o resto do dataset é utilizado para treino. Essa abordagem é conhecida como **leave one out (LOO)**:\n",
    "\n",
    "<img src=https://assets.datacamp.com/production/repositories/3981/datasets/8a6236f142b1ee2e4a70aae2af9507c7c580f302/Screen%20Shot%202019-01-27%20at%209.25.41%20AM.png width=700>\n",
    "\n",
    "Note que o esforço computacional aumenta conforme $k$ aumenta, sendo máximo quando $k=n$. Por esse motivo, recomenda-se usar o LOO apenas nos casos em que o número de observções na base original é bem pequeno ($\\sim 10^2$)."
   ]
  },
  {
   "cell_type": "code",
   "execution_count": 3,
   "metadata": {},
   "outputs": [],
   "source": [
    "import pandas as pd\n",
    "import seaborn as sns\n",
    "from sklearn.model_selection import train_test_split, KFold, StratifiedKFold, cross_val_score, cross_validate\n",
    "from sklearn.linear_model import LogisticRegression\n",
    "from sklearn.datasets import load_iris\n",
    "from sklearn.metrics import accuracy_score"
   ]
  },
  {
   "cell_type": "code",
   "execution_count": 4,
   "id": "cb849764",
   "metadata": {},
   "outputs": [],
   "source": [
    "iris = load_iris()"
   ]
  },
  {
   "cell_type": "code",
   "execution_count": null,
   "metadata": {},
   "outputs": [],
   "source": []
  },
  {
   "cell_type": "code",
   "execution_count": null,
   "metadata": {},
   "outputs": [],
   "source": []
  },
  {
   "cell_type": "code",
   "execution_count": 43,
   "id": "f455c7b0",
   "metadata": {},
   "outputs": [],
   "source": [
    "# kf5 = KFold(n_splits=5, shuffle=True, random_state=42)\n",
    "\n",
    "# results_cv = cross_validate(estimator=model, X=X_train, y=y_train,\n",
    "#                            cv=kf5, scoring=\"accuracy\",\n",
    "#                            return_train_score=True, return_estimator=True)"
   ]
  },
  {
   "cell_type": "code",
   "execution_count": 44,
   "id": "24e5fb88",
   "metadata": {},
   "outputs": [],
   "source": [
    "# df_results_cv = pd.DataFrame(results_cv)"
   ]
  },
  {
   "cell_type": "code",
   "execution_count": 58,
   "id": "0a02f343",
   "metadata": {},
   "outputs": [],
   "source": [
    "# def plot_cv(estimator, X, y, n_splits, scoring):\n",
    "#     '''\n",
    "#     scoring: string relativa às métricas\n",
    "#     '''\n",
    "    \n",
    "#     kf5 = KFold(n_splits=n_splits, shuffle=True, random_state=42)\n",
    "\n",
    "#     result_cv = cross_validate(estimator=estimator, X=X, y=y, \n",
    "#                                cv=kf5, scoring=scoring,\n",
    "#                                return_train_score=True)\n",
    "    \n",
    "#     # ============================\n",
    "\n",
    "#     df_result_cv = pd.DataFrame(result_cv)\n",
    "#     df_result_cv = df_result_cv.abs()\n",
    "    \n",
    "#     display(df_result_cv[[\"train_score\", \"test_score\"]].describe())\n",
    "    \n",
    "#     # ============================\n",
    "    \n",
    "#     print(\"\\nDistribuição de métricas de treino:\")\n",
    "#     sns.histplot(data=df_result_cv, x=\"train_score\", kde=True)\n",
    "#     plt.show()\n",
    "    \n",
    "#     print(\"\\nDistribuição de métricas de teste:\")\n",
    "#     sns.histplot(data=df_result_cv, x=\"test_score\", kde=True)\n",
    "#     plt.show()\n",
    "    \n",
    "#     print(\"\\nAs duas juntas (compare a variância!):\")\n",
    "#     sns.histplot(data=df_result_cv, x=\"train_score\", kde=True)\n",
    "#     sns.histplot(data=df_result_cv, x=\"test_score\", color=\"orange\", kde=True)\n",
    "#     plt.show()"
   ]
  },
  {
   "cell_type": "code",
   "execution_count": 1,
   "id": "aa2209b2",
   "metadata": {},
   "outputs": [],
   "source": [
    "# plot_cv(rl, X, y, 20, 'accuracy')"
   ]
  },
  {
   "cell_type": "code",
   "execution_count": null,
   "metadata": {},
   "outputs": [],
   "source": []
  },
  {
   "cell_type": "code",
   "execution_count": null,
   "metadata": {},
   "outputs": [],
   "source": []
  },
  {
   "cell_type": "markdown",
   "id": "ee7c8a40",
   "metadata": {},
   "source": [
    "## Escalonamento (StandardScaler)\n",
    "\n",
    "[Breast cancer dataset](https://www.kaggle.com/datasets/uciml/breast-cancer-wisconsin-data)"
   ]
  },
  {
   "cell_type": "code",
   "execution_count": null,
   "metadata": {},
   "outputs": [],
   "source": []
  },
  {
   "cell_type": "code",
   "execution_count": 62,
   "id": "b56eb63e",
   "metadata": {},
   "outputs": [],
   "source": [
    "# breast_cancer = pd.read_csv('datasets/breast_cancer.csv')"
   ]
  },
  {
   "cell_type": "markdown",
   "id": "22fd1e7d",
   "metadata": {},
   "source": [
    "## Exercício\n",
    "\n",
    "https://www.kaggle.com/datasets/radheshyamkollipara/bank-customer-churn"
   ]
  }
 ],
 "metadata": {
  "kernelspec": {
   "display_name": "Python 3 (ipykernel)",
   "language": "python",
   "name": "python3"
  },
  "language_info": {
   "codemirror_mode": {
    "name": "ipython",
    "version": 3
   },
   "file_extension": ".py",
   "mimetype": "text/x-python",
   "name": "python",
   "nbconvert_exporter": "python",
   "pygments_lexer": "ipython3",
   "version": "3.8.10"
  }
 },
 "nbformat": 4,
 "nbformat_minor": 5
}
