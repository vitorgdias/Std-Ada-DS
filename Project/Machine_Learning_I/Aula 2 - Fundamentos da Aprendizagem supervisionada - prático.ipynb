{
 "cells": [
  {
   "cell_type": "markdown",
   "id": "475e4728",
   "metadata": {},
   "source": [
    "### Instalações necessárias"
   ]
  },
  {
   "cell_type": "code",
   "execution_count": 7,
   "metadata": {},
   "outputs": [
    {
     "name": "stdout",
     "output_type": "stream",
     "text": [
      "\u001b[33mDEPRECATION: Python 2.7 reached the end of its life on January 1st, 2020. Please upgrade your Python as Python 2.7 is no longer maintained. pip 21.0 will drop support for Python 2.7 in January 2021. More details about Python 2 support in pip can be found at https://pip.pypa.io/en/latest/development/release-process/#python-2-support pip 21.0 will remove support for this functionality.\u001b[0m\n"
     ]
    }
   ],
   "source": [
    "!pip install -q numpy matplotlib pandas seaborn scikit-learn"
   ]
  },
  {
   "cell_type": "markdown",
   "metadata": {},
   "source": [
    "### Algoritmos usados\n",
    "- Regressão Linear - regressão\n",
    "- Regressão Logistica - classificação\n",
    "\n",
    "<img src=https://miro.medium.com/v2/resize:fit:1400/1*lnWfrrvR8qkANHombhQMTQ.png width=700>\n",
    "\n",
    "\n",
    "[Referência](https://www.datacamp.com/tutorial/understanding-logistic-regression-python)"
   ]
  },
  {
   "cell_type": "code",
   "execution_count": 2,
   "id": "5762125d",
   "metadata": {},
   "outputs": [],
   "source": [
    "# imports necessarios"
   ]
  },
  {
   "cell_type": "markdown",
   "id": "521764b7",
   "metadata": {},
   "source": [
    "## Leitura e tratamento\n",
    "- Dataset [USA housing](https://www.kaggle.com/datasets/praneykalra/usa-housing-dataset)"
   ]
  },
  {
   "cell_type": "code",
   "execution_count": 3,
   "id": "712184ac",
   "metadata": {},
   "outputs": [],
   "source": [
    "# houses = pd.read_csv('datasets/USA_Housing.csv')"
   ]
  },
  {
   "cell_type": "code",
   "execution_count": 1,
   "id": "7036bf2f",
   "metadata": {},
   "outputs": [],
   "source": [
    "# sns.pairplot(houses)"
   ]
  },
  {
   "cell_type": "code",
   "execution_count": null,
   "metadata": {},
   "outputs": [],
   "source": []
  },
  {
   "cell_type": "code",
   "execution_count": 9,
   "id": "d0513875",
   "metadata": {},
   "outputs": [],
   "source": [
    "# Regressão linear"
   ]
  },
  {
   "cell_type": "code",
   "execution_count": 10,
   "id": "b1e09eb5",
   "metadata": {},
   "outputs": [],
   "source": [
    "# x_treino, x_teste, y_treino, y_teste = train_test_split(X, y, train_size = 0.75, random_state = 42)"
   ]
  },
  {
   "cell_type": "code",
   "execution_count": 2,
   "id": "ab31f117",
   "metadata": {},
   "outputs": [],
   "source": [
    "# fit do modelo"
   ]
  },
  {
   "cell_type": "code",
   "execution_count": 16,
   "id": "ecff2eb2",
   "metadata": {},
   "outputs": [],
   "source": [
    "# predict do modelo"
   ]
  },
  {
   "cell_type": "code",
   "execution_count": null,
   "metadata": {},
   "outputs": [],
   "source": []
  },
  {
   "cell_type": "code",
   "execution_count": null,
   "metadata": {},
   "outputs": [],
   "source": []
  },
  {
   "cell_type": "markdown",
   "metadata": {},
   "source": [
    "### Avaliar o modelo de regressão\n",
    "\n",
    "- [5 Regression Metrics Explained in Just 5 minutes](https://pub.towardsai.net/regression-metrics-6690815bb51f)\n",
    "\n",
    "<img src=https://miro.medium.com/v2/resize:fit:4800/format:webp/1*Ug7uflGlIAjFe6lFMACnfA.png width=600>"
   ]
  },
  {
   "cell_type": "code",
   "execution_count": 3,
   "id": "a3219622",
   "metadata": {},
   "outputs": [],
   "source": [
    "# metricas\n"
   ]
  },
  {
   "cell_type": "code",
   "execution_count": 4,
   "id": "2a5abb90",
   "metadata": {},
   "outputs": [],
   "source": [
    "# ## define tamanho da figura\n",
    "# fig = plt.figure(figsize=(8,8))\n",
    "\n",
    "# # Configurações do plot\n",
    "# l = plt.plot(y_pred, y_teste, 'bo') # Define os eixos x e y. O argumento 'bo' indica que queremos que os elementos\n",
    "#                                     # apareçam como circulos azuis\n",
    "# plt.setp(l, markersize=10)          # Aqui definimos o tamanho dos circulos\n",
    "# plt.setp(l, markerfacecolor='C0')   # Aqui definimos a cor do contorno\n",
    "\n",
    "# ## Titulo e eixos\n",
    "# plt.title('Comparação Valor Predito x Valor Real', fontsize=12)\n",
    "# plt.ylabel(\"True Value\", fontsize=12)\n",
    "# plt.xlabel(\"Predict Value\", fontsize=12)\n",
    "\n",
    "# ## Aqui definimos a equação da reta de aproximação e adicionamos ela no plot\n",
    "# xl = np.arange(min(y_teste), 1.2*max(y_teste),(max(y_teste)-min(y_teste))/10)\n",
    "# yl = xl\n",
    "# plt.plot(xl, yl, 'r--')\n",
    "\n",
    "# ## Exibição\n",
    "# plt.show()"
   ]
  },
  {
   "cell_type": "markdown",
   "id": "ecc9f4ef",
   "metadata": {},
   "source": [
    "## Classificação"
   ]
  },
  {
   "cell_type": "code",
   "execution_count": 8,
   "id": "cd574cc0",
   "metadata": {},
   "outputs": [],
   "source": [
    "# carregar dataset\n",
    "penguins = sns.load_dataset('penguins')"
   ]
  },
  {
   "cell_type": "code",
   "execution_count": null,
   "metadata": {},
   "outputs": [],
   "source": []
  },
  {
   "cell_type": "code",
   "execution_count": null,
   "metadata": {},
   "outputs": [],
   "source": []
  },
  {
   "cell_type": "code",
   "execution_count": 50,
   "id": "bcbfcde2",
   "metadata": {},
   "outputs": [
    {
     "data": {
      "text/plain": [
       "Adelie       146\n",
       "Gentoo       119\n",
       "Chinstrap     68\n",
       "Name: species, dtype: int64"
      ]
     },
     "execution_count": 50,
     "metadata": {},
     "output_type": "execute_result"
    }
   ],
   "source": [
    "## Quantidade de espécies - classes (target)\n",
    "penguins['species'].value_counts()"
   ]
  },
  {
   "cell_type": "code",
   "execution_count": 12,
   "id": "f00e66a4",
   "metadata": {},
   "outputs": [],
   "source": [
    "# penguins.dropna(inplace = True)"
   ]
  },
  {
   "cell_type": "code",
   "execution_count": 11,
   "id": "31f74f20",
   "metadata": {},
   "outputs": [],
   "source": [
    "# sns.pairplot(penguins, hue='species')"
   ]
  },
  {
   "cell_type": "markdown",
   "id": "17c23215",
   "metadata": {},
   "source": [
    "## separação dos datasets em target e features"
   ]
  },
  {
   "cell_type": "code",
   "execution_count": 31,
   "id": "c3d8ce24",
   "metadata": {},
   "outputs": [],
   "source": [
    "X = penguins.drop(['species', 'island', 'sex'], axis = 1)\n",
    "y = penguins['species']"
   ]
  },
  {
   "cell_type": "code",
   "execution_count": 32,
   "id": "627c92fa",
   "metadata": {},
   "outputs": [],
   "source": [
    "# X_train, X_test, y_train, y_test = train_test_split(X, y, train_size=0.75, random_state=42, stratify = y)"
   ]
  },
  {
   "cell_type": "code",
   "execution_count": 13,
   "id": "6ac4bbdc",
   "metadata": {},
   "outputs": [],
   "source": [
    "# treinar modelo\n"
   ]
  },
  {
   "cell_type": "markdown",
   "id": "3fa50e90",
   "metadata": {},
   "source": [
    "## Matriz de confusão"
   ]
  },
  {
   "cell_type": "code",
   "execution_count": null,
   "id": "57323938",
   "metadata": {},
   "outputs": [],
   "source": []
  },
  {
   "cell_type": "markdown",
   "metadata": {},
   "source": [
    "### Métricas de avaliação - classificação\n",
    "\n",
    "<img src=https://www.researchgate.net/profile/Shuaibing-Li-3/publication/381679539/figure/fig4/AS:11431281254966924@1719364190811/Diagram-illustrating-the-calculation-of-metrics-accuracy-precision-recall-and.png>\n",
    "\n",
    "[Referencia](https://medium.com/@MohammedS/performance-metrics-for-classification-problems-in-machine-learning-part-i-b085d432082b)"
   ]
  },
  {
   "cell_type": "code",
   "execution_count": 14,
   "id": "4969d494",
   "metadata": {},
   "outputs": [],
   "source": [
    "# print(classification_report(y_test, y_pred))"
   ]
  },
  {
   "cell_type": "code",
   "execution_count": null,
   "metadata": {},
   "outputs": [],
   "source": [
    "## Fronteira de decisão do modelo\n",
    "\n",
    "# from sklearn.preprocessing import LabelEncoder\n",
    "# from sklearn.inspection import DecisionBoundaryDisplay\n",
    "\n",
    "# X = x[[\"bill_length_mm\", \"bill_depth_mm\"]]\n",
    "# classifier = LogisticRegression().fit(X, y)\n",
    "# disp = DecisionBoundaryDisplay.from_estimator(\n",
    "#     classifier, X, response_method=\"predict\",\n",
    "#     xlabel=X.columns[0], ylabel=X.columns[1],\n",
    "#     alpha=0.5,\n",
    "# )\n",
    "\n",
    "\n",
    "# le = LabelEncoder()\n",
    "# colors = le.fit_transform(y)\n",
    "# disp.ax_.scatter(X[\"bill_length_mm\"], X[\"bill_depth_mm\"], c=list(colors), edgecolor=\"k\")\n",
    "# plt.show()"
   ]
  },
  {
   "cell_type": "markdown",
   "id": "77ba19f3",
   "metadata": {},
   "source": [
    "## Exercicio"
   ]
  },
  {
   "cell_type": "markdown",
   "id": "ef5639ae",
   "metadata": {},
   "source": [
    "#### Pegue o dataset do link\n",
    "\n",
    "https://www.kaggle.com/datasets/iammustafatz/diabetes-prediction-dataset"
   ]
  },
  {
   "cell_type": "markdown",
   "id": "88f9bfc1",
   "metadata": {},
   "source": [
    "Faça um modelo para avaliar se a pessoa tem diabetes ou não, faça o fluxo completo de pensamento: \n",
    "\n",
    "1. Explore os dados\n",
    "2. Veja se eles precisam de ajustes\n",
    "3. Escolham as features adequadas para o treino\n",
    "4. Treine o modelo\n",
    "5. Escolha uma métrica que melhor se adeque ao problema e avalie o modelo\n",
    "6. Discuta se colocaria o modelo em produção ou não"
   ]
  },
  {
   "cell_type": "code",
   "execution_count": null,
   "metadata": {},
   "outputs": [],
   "source": []
  }
 ],
 "metadata": {
  "kernelspec": {
   "display_name": "Python 3 (ipykernel)",
   "language": "python",
   "name": "python3"
  },
  "language_info": {
   "codemirror_mode": {
    "name": "ipython",
    "version": 3
   },
   "file_extension": ".py",
   "mimetype": "text/x-python",
   "name": "python",
   "nbconvert_exporter": "python",
   "pygments_lexer": "ipython3",
   "version": "3.8.10"
  }
 },
 "nbformat": 4,
 "nbformat_minor": 5
}
