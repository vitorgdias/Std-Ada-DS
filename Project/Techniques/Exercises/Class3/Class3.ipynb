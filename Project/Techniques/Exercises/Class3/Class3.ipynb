{
 "cells": [
  {
   "cell_type": "code",
   "execution_count": 1,
   "metadata": {},
   "outputs": [],
   "source": [
    "import numpy as np"
   ]
  },
  {
   "cell_type": "code",
   "execution_count": 17,
   "metadata": {},
   "outputs": [
    {
     "data": {
      "text/plain": [
       "array([[ 1.788811, 65.648102,  0.      ],\n",
       "       [ 1.566784, 76.642768,  0.      ],\n",
       "       [ 2.092193, 55.468185,  1.      ],\n",
       "       [ 1.782471, 67.281997,  1.      ],\n",
       "       [ 1.735767, 69.289008,  0.      ],\n",
       "       [ 1.686975, 56.840051,  0.      ],\n",
       "       [ 1.797105, 65.208973,  1.      ],\n",
       "       [ 1.187349, 48.164764,  0.      ],\n",
       "       [ 1.595891, 45.410648,  1.      ],\n",
       "       [ 1.396282, 67.930113,  0.      ],\n",
       "       [ 1.606148, 67.719604,  0.      ],\n",
       "       [ 1.70759 , 45.609333,  0.      ],\n",
       "       [ 1.735513, 64.845452,  0.      ],\n",
       "       [ 1.672055, 39.705952,  1.      ],\n",
       "       [ 1.723377, 50.05888 ,  1.      ],\n",
       "       [ 1.684574, 56.545087,  1.      ],\n",
       "       [ 1.733259, 37.512188,  0.      ],\n",
       "       [ 1.7579  , 57.362422,  0.      ],\n",
       "       [ 1.913338, 69.307246,  1.      ],\n",
       "       [ 1.456048, 69.342337,  0.      ]])"
      ]
     },
     "execution_count": 17,
     "metadata": {},
     "output_type": "execute_result"
    }
   ],
   "source": [
    "matriz = np.loadtxt('./dados_artificiais.txt', skiprows=1, usecols=(1,2,3))\n",
    "matriz"
   ]
  },
  {
   "cell_type": "code",
   "execution_count": 18,
   "metadata": {},
   "outputs": [
    {
     "data": {
      "text/plain": [
       "array([[ 1.788811  , 65.648102  ,  0.        , 20.51602694],\n",
       "       [ 1.566784  , 76.642768  ,  0.        , 31.22143968],\n",
       "       [ 2.092193  , 55.468185  ,  1.        , 12.67186291],\n",
       "       [ 1.782471  , 67.281997  ,  1.        , 21.17648757],\n",
       "       [ 1.735767  , 69.289008  ,  0.        , 22.99754561],\n",
       "       [ 1.686975  , 56.840051  ,  0.        , 19.97271779],\n",
       "       [ 1.797105  , 65.208973  ,  1.        , 20.19112211],\n",
       "       [ 1.187349  , 48.164764  ,  0.        , 34.16431009],\n",
       "       [ 1.595891  , 45.410648  ,  1.        , 17.8299961 ],\n",
       "       [ 1.396282  , 67.930113  ,  0.        , 34.8430415 ],\n",
       "       [ 1.606148  , 67.719604  ,  0.        , 26.25084498],\n",
       "       [ 1.70759   , 45.609333  ,  0.        , 15.64179232],\n",
       "       [ 1.735513  , 64.845452  ,  0.        , 21.52899612],\n",
       "       [ 1.672055  , 39.705952  ,  1.        , 14.20216309],\n",
       "       [ 1.723377  , 50.05888   ,  1.        , 16.85468124],\n",
       "       [ 1.684574  , 56.545087  ,  1.        , 19.92575058],\n",
       "       [ 1.733259  , 37.512188  ,  0.        , 12.48663648],\n",
       "       [ 1.7579    , 57.362422  ,  0.        , 18.5626146 ],\n",
       "       [ 1.913338  , 69.307246  ,  1.        , 18.93194561],\n",
       "       [ 1.456048  , 69.342337  ,  0.        , 32.70748042]])"
      ]
     },
     "execution_count": 18,
     "metadata": {},
     "output_type": "execute_result"
    }
   ],
   "source": [
    "imc = matriz[:,1] / (matriz[:,0]**2)\n",
    "\n",
    "matriz = np.concatenate((matriz, imc.reshape(-1,1)), axis=1)\n",
    "matriz  "
   ]
  },
  {
   "cell_type": "code",
   "execution_count": 19,
   "metadata": {},
   "outputs": [
    {
     "name": "stdout",
     "output_type": "stream",
     "text": [
      "[['1.788811' '65.648102' '0.0' '20.516026942563006' 'Peso ideal']\n",
      " ['1.566784' '76.642768' '0.0' '31.221439684559105' 'Obesidade Grau I']\n",
      " ['2.092193' '55.468185' '1.0' '12.671862911844382' 'Baixo peso Grau III']\n",
      " ['1.782471' '67.281997' '1.0' '21.176487571306087' 'Peso ideal']\n",
      " ['1.735767' '69.289008' '0.0' '22.9975456097574' 'Peso ideal']\n",
      " ['1.686975' '56.840051' '0.0' '19.972717793575036' 'Peso ideal']\n",
      " ['1.797105' '65.208973' '1.0' '20.191122114932906' 'Peso ideal']\n",
      " ['1.187349' '48.164764' '0.0' '34.16431008742802' 'Obesidade Grau I']\n",
      " ['1.595891' '45.410648' '1.0' '17.829996098895624' 'Baixo peso Grau I']\n",
      " ['1.396282' '67.930113' '0.0' '34.84304150287812' 'Obesidade Grau I']\n",
      " ['1.606148' '67.719604' '0.0' '26.250844980187235' 'Sobrepeso']\n",
      " ['1.70759' '45.609333' '0.0' '15.641792322967879' 'Baixo peso Grau III']\n",
      " ['1.735513' '64.845452' '0.0' '21.52899612253168' 'Peso ideal']\n",
      " ['1.672055' '39.705952' '1.0' '14.202163088357656' 'Baixo peso Grau III']\n",
      " ['1.723377' '50.05888' '1.0' '16.854681239064504' 'Baixo peso Grau II']\n",
      " ['1.684574' '56.545087' '1.0' '19.925750579824385' 'Peso ideal']\n",
      " ['1.733259' '37.512188' '0.0' '12.486636478786007' 'Baixo peso Grau III']\n",
      " ['1.7579' '57.362422' '0.0' '18.56261460033422' 'Peso ideal']\n",
      " ['1.913338' '69.307246' '1.0' '18.931945612244615' 'Peso ideal']\n",
      " ['1.456048' '69.342337' '0.0' '32.707480416323556' 'Obesidade Grau I']]\n"
     ]
    }
   ],
   "source": [
    "Categoria = []\n",
    "\n",
    "for imc in matriz[:,3]:\n",
    "    if imc < 16:\n",
    "        Categoria.append('Baixo peso Grau III')\n",
    "    elif imc < 17:\n",
    "        Categoria.append('Baixo peso Grau II')\n",
    "    elif imc < 18.5:\n",
    "        Categoria.append('Baixo peso Grau I')\n",
    "    elif imc < 25:\n",
    "        Categoria.append('Peso ideal')\n",
    "    elif imc < 30:\n",
    "        Categoria.append('Sobrepeso')\n",
    "    elif imc < 35:\n",
    "        Categoria.append('Obesidade Grau I')\n",
    "    elif imc < 40:\n",
    "        Categoria.append('Obesidade Grau II')\n",
    "    else:\n",
    "        Categoria.append('Obesidade Grau III')\n",
    "\n",
    "matriz = np.concatenate((matriz, np.array(Categoria).reshape(-1,1)), axis=1)\n",
    "print(matriz)"
   ]
  },
  {
   "cell_type": "code",
   "execution_count": 20,
   "metadata": {},
   "outputs": [],
   "source": [
    "header = \"altura,peso,sexo,imc,classificacao\"\n",
    "np.savetxt(\"dados_imc.txt\", matriz, header=header, delimiter=\",\",fmt='%s')"
   ]
  }
 ],
 "metadata": {
  "kernelspec": {
   "display_name": "Python 3",
   "language": "python",
   "name": "python3"
  },
  "language_info": {
   "codemirror_mode": {
    "name": "ipython",
    "version": 3
   },
   "file_extension": ".py",
   "mimetype": "text/x-python",
   "name": "python",
   "nbconvert_exporter": "python",
   "pygments_lexer": "ipython3",
   "version": "3.11.9"
  }
 },
 "nbformat": 4,
 "nbformat_minor": 2
}
