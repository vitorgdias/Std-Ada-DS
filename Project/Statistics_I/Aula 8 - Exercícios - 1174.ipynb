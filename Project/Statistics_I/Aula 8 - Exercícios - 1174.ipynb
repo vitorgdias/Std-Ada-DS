{
 "cells": [
  {
   "cell_type": "markdown",
   "id": "7f3919aa-0304-4352-ba2f-e3ea7bd37acc",
   "metadata": {},
   "source": [
    "<div style=\"background-color: lightgreen; padding: 18px;\">\n",
    "    <h1> Aula 8| Estatística I\n",
    "</div>"
   ]
  },
  {
   "cell_type": "markdown",
   "id": "eedcb429-861c-4277-baa9-9ee7d0ea7f85",
   "metadata": {},
   "source": [
    "<div style=\"background-color: lightblue; padding: 10px;\">\n",
    "    <h2> Tópicos da aula 8\n",
    "</div>\n",
    "\n",
    "- Exercícios variados"
   ]
  },
  {
   "cell_type": "markdown",
   "id": "d2f3a0c0-5aa1-49d3-a3c3-ee7749d337bb",
   "metadata": {},
   "source": [
    "**Partindo do dataset tips.csv, determine:**\n",
    "\n",
    " \n",
    "     a) A probabilidade de, aleatoriamente, escolhermos um cliente que pediu sobremesa.  \n",
    "\n",
    "     b) A probabilidade de ser sábado e o cliente ter pedido sobremesa.  \n",
    "     \n",
    "     c) A probabilidade de um cliente pedir sobremesa, dado que é um sábado.\n",
    "\n",
    "     d) A probabilidade de ser sábado, dado um cliente pediu sobremesa.  \n",
    "\n",
    "     e) A distribuição de probabilidade da quantidade de clientes por mesa.\n",
    "\n",
    "     f) A esperança da quantidade de clientes por mesa.  \n",
    "\n",
    "     g) A variância e o desvio padrão da quantidade de clientes por mesa.  \n",
    "\n",
    "     h) O gasto médio com as refeições, seu desvio padrão e seu histograma.  \n",
    "     \n",
    "     i) O valor médio das gorgetas, o seu desvio padrão e o seu histograma. \n",
    "\n",
    "     ) O gráfico de valor gasto x gorgeta.  \n",
    "     \n",
    "     j) O valor da correlação linear entre o valor gasto e a gorgeta dada.\n",
    "     \n",
    "     k) A probabilidade da gorgeta ser acima da média quando o valor gasto na refeição.   \n",
    "    for abaixo da média.\n",
    "    \n",
    "     l) Se uma amostra de 30 gorgetas for 10% acima da média das gorgetas, com um nível\n",
    "    de confiança de 95%, é possível afirmar que o valor médio das gorgetas está correto?  \n",
    "\n",
    "\n",
    "    m) O intervalo de confiança para a média das gorgetas, partindo da média da amostra acima,\n",
    "       para um nível de confiança de 95%.\n",
    "    \n",
    "\n",
    "\n"
   ]
  },
  {
   "cell_type": "code",
   "execution_count": 1,
   "id": "43668827-b016-47e9-afbd-681143112696",
   "metadata": {},
   "outputs": [],
   "source": []
  },
  {
   "cell_type": "code",
   "execution_count": null,
   "id": "46221f80-0722-4f0e-9b8c-c4c1948db4b7",
   "metadata": {},
   "outputs": [],
   "source": []
  },
  {
   "cell_type": "code",
   "execution_count": null,
   "id": "144eb25e-e4d7-4d0b-ab4d-8cee6824e7e0",
   "metadata": {},
   "outputs": [],
   "source": []
  },
  {
   "cell_type": "code",
   "execution_count": null,
   "id": "9b04c260-da99-4467-8f26-12dfbc4303c8",
   "metadata": {},
   "outputs": [],
   "source": []
  },
  {
   "cell_type": "code",
   "execution_count": null,
   "id": "ae63e230-8185-4b96-9854-1e3acedf2b7f",
   "metadata": {},
   "outputs": [],
   "source": []
  },
  {
   "cell_type": "code",
   "execution_count": null,
   "id": "8fcae228-342a-447a-8259-da994aa20e66",
   "metadata": {},
   "outputs": [],
   "source": []
  },
  {
   "cell_type": "code",
   "execution_count": null,
   "id": "5a5c5b7e-9256-49c9-834d-ea753607a504",
   "metadata": {},
   "outputs": [],
   "source": []
  }
 ],
 "metadata": {
  "kernelspec": {
   "display_name": "Python 3 (ipykernel)",
   "language": "python",
   "name": "python3"
  },
  "language_info": {
   "codemirror_mode": {
    "name": "ipython",
    "version": 3
   },
   "file_extension": ".py",
   "mimetype": "text/x-python",
   "name": "python",
   "nbconvert_exporter": "python",
   "pygments_lexer": "ipython3",
   "version": "3.12.7"
  }
 },
 "nbformat": 4,
 "nbformat_minor": 5
}
